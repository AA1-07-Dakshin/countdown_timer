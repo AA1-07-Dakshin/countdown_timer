{
 "cells": [
  {
   "cell_type": "code",
   "execution_count": 1,
   "id": "9769250b",
   "metadata": {},
   "outputs": [
    {
     "name": "stdout",
     "output_type": "stream",
     "text": [
      "Enter the countdown time in seconds: 6\n",
      "Time remaining: 6 seconds\n",
      "Time remaining: 5 seconds\n",
      "Time remaining: 4 seconds\n",
      "Time remaining: 3 seconds\n",
      "Time remaining: 2 seconds\n",
      "Time remaining: 1 seconds\n",
      "Time's up!\n"
     ]
    }
   ],
   "source": [
    "import time\n",
    "\n",
    "def countdown_timer(seconds):\n",
    "    while seconds > 0:\n",
    "        print(f\"Time remaining: {seconds} seconds\")\n",
    "        time.sleep(1)\n",
    "        seconds -= 1\n",
    "\n",
    "    print(\"Time's up!\")\n",
    "\n",
    "def main():\n",
    "    try:\n",
    "        seconds = int(input(\"Enter the countdown time in seconds: \"))\n",
    "        countdown_timer(seconds)\n",
    "    except ValueError:\n",
    "        print(\"Invalid input. Please enter a valid number of seconds.\")\n",
    "\n",
    "\n",
    "\n",
    "\n",
    "if __name__ == \"__main__\":\n",
    "    main()"
   ]
  },
  {
   "cell_type": "code",
   "execution_count": null,
   "id": "cdbb217a",
   "metadata": {},
   "outputs": [],
   "source": []
  }
 ],
 "metadata": {
  "kernelspec": {
   "display_name": "Python 3 (ipykernel)",
   "language": "python",
   "name": "python3"
  },
  "language_info": {
   "codemirror_mode": {
    "name": "ipython",
    "version": 3
   },
   "file_extension": ".py",
   "mimetype": "text/x-python",
   "name": "python",
   "nbconvert_exporter": "python",
   "pygments_lexer": "ipython3",
   "version": "3.11.4"
  }
 },
 "nbformat": 4,
 "nbformat_minor": 5
}
